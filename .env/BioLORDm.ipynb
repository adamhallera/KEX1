{
 "cells": [
  {
   "cell_type": "code",
   "execution_count": 1,
   "metadata": {},
   "outputs": [
    {
     "name": "stdout",
     "output_type": "stream",
     "text": [
      "[1.         0.67468286]\n"
     ]
    }
   ],
   "source": [
    "from sklearn.metrics.pairwise import cosine_similarity\n",
    "from sentence_transformers import SentenceTransformer\n",
    "sentences = [\"Max 6 mm perikardspatium med delvis organiserat innehåll utanför HK och ffa lateralt om VK. Normalvid vänster kammare med väggtjocklek vid övre normalgräns, måttligt sänkt systolisk funktion (EF ca 40%). Lätt dilaterat vänster förmak. Normalstora högersidiga hjärtrum. Väs normal systolisk högerkammarfunktion. Lindrig mitralisinsuff. Maxsystoliskt PA-tryck ca 30 mmHg.\"\n",
    "             , \"Normalsy10.ikardvät med med tecken normaliserat utseende, vänster, EFfa utanföralt om VK, Normalstor vänsterkammare med måttrörocklek inom övre normalgräns, EFligt sänkt globalstolisk funktion,EF  55- Lätt dilaterat vänster förmak med Normalstora högersidiga hjärtrum. Normaläs normal systolisk högerkammarfunktion. Ingarig mitralisinsuff. Ingasystoliskt PA-tryck ca 50-Hg. Lätt\"]\n",
    "\n",
    "model = SentenceTransformer('FremyCompany/BioLORD-2023-M', device='cpu')\n",
    "embeddings = model.encode(sentences)\n",
    "similarity_matrix = cosine_similarity(embeddings)\n",
    "print(similarity_matrix[0,:]) #första ordet är referens ordet."
   ]
  },
  {
   "cell_type": "code",
   "execution_count": 2,
   "metadata": {},
   "outputs": [
    {
     "name": "stdout",
     "output_type": "stream",
     "text": [
      "0.67468286\n"
     ]
    }
   ],
   "source": [
    "print(similarity_matrix[0,1])"
   ]
  }
 ],
 "metadata": {
  "kernelspec": {
   "display_name": ".env",
   "language": "python",
   "name": "python3"
  },
  "language_info": {
   "codemirror_mode": {
    "name": "ipython",
    "version": 3
   },
   "file_extension": ".py",
   "mimetype": "text/x-python",
   "name": "python",
   "nbconvert_exporter": "python",
   "pygments_lexer": "ipython3",
   "version": "3.12.2"
  }
 },
 "nbformat": 4,
 "nbformat_minor": 2
}
