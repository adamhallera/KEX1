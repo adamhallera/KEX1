{
 "cells": [
  {
   "cell_type": "code",
   "execution_count": 10,
   "metadata": {},
   "outputs": [
    {
     "name": "stdout",
     "output_type": "stream",
     "text": [
      "[0.9999999  0.73632795 0.26036417 0.9730935 ]\n"
     ]
    }
   ],
   "source": [
    "from sklearn.metrics.pairwise import cosine_similarity\n",
    "from sentence_transformers import SentenceTransformer\n",
    "sentences = [\"Cat scratch injury\", \"Cat scratch disease\", \"Bartonellosis\", \"Scratch injury from a cat\"]\n",
    "\n",
    "model = SentenceTransformer('FremyCompany/BioLORD-2023-M')\n",
    "embeddings = model.encode(sentences)\n",
    "similarity_matrix = cosine_similarity(embeddings)\n",
    "print(similarity_matrix[0,:]) #första ordet är referens ordet."
   ]
  }
 ],
 "metadata": {
  "kernelspec": {
   "display_name": ".env",
   "language": "python",
   "name": "python3"
  },
  "language_info": {
   "codemirror_mode": {
    "name": "ipython",
    "version": 3
   },
   "file_extension": ".py",
   "mimetype": "text/x-python",
   "name": "python",
   "nbconvert_exporter": "python",
   "pygments_lexer": "ipython3",
   "version": "3.12.2"
  }
 },
 "nbformat": 4,
 "nbformat_minor": 2
}
