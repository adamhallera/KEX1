{
 "cells": [
  {
   "cell_type": "code",
   "execution_count": null,
   "metadata": {},
   "outputs": [],
   "source": [
    "import pandas as pb\n",
    "\n",
    "data = pb.read_excel('FAKSexport.xlsx')\n",
    "#print(data)\n",
    "print(data.shape)\n",
    "\n"
   ]
  },
  {
   "cell_type": "code",
   "execution_count": null,
   "metadata": {},
   "outputs": [],
   "source": [
    "import pandas as pb\n",
    "\n",
    "Smaldata = pb.read_excel('SmalFAKS.xlsx')\n",
    "#print(data)\n",
    "print(Smaldata.shape)\n"
   ]
  },
  {
   "cell_type": "code",
   "execution_count": null,
   "metadata": {},
   "outputs": [],
   "source": []
  },
  {
   "cell_type": "code",
   "execution_count": null,
   "metadata": {},
   "outputs": [],
   "source": [
    "import pandas as pd\n",
    "\n",
    "# Konvertera alla kolumnnamn till strängar för att undvika TypeError\n",
    "Smaldata.columns = Smaldata.columns.astype(str)\n",
    "data.columns = data.columns.astype(str)\n",
    "\n",
    "print(\"1.6\")\n",
    "# Sök efter kolumner som innehåller det specifika ordet\n",
    "word_to_remove = 'checkbox'\n",
    "columns_to_remove = [col for col in Smaldata.columns if word_to_remove in col]\n",
    "\n",
    "print(Smaldata.shape)\n",
    "print(data.shape)\n",
    "print(\"2\")\n",
    "# Ta bort de hittade kolumnerna från DataFrame\n",
    "data = data.drop(columns=columns_to_remove)\n",
    "\n",
    "print(Smaldata.shape)\n",
    "print(data.shape)\n",
    "print(\"3\")\n",
    "# Spara den uppdaterade DataFrame till en ny Excel-fil eller samma fil\n",
    "data.to_excel('updFAKSexp.xlsx', index=False)"
   ]
  },
  {
   "cell_type": "code",
   "execution_count": 1,
   "metadata": {},
   "outputs": [
    {
     "name": "stdout",
     "output_type": "stream",
     "text": [
      "1\n",
      "(129730, 487)\n"
     ]
    }
   ],
   "source": [
    "import pandas as pb\n",
    "data = pb.read_excel('updFAKSexp.xlsx')\n",
    "print(1)\n",
    "#data.to_csv('updFAKSexpCSV.csv')\n",
    "data_np = data.to_numpy()\n",
    "print(data.shape)"
   ]
  },
  {
   "cell_type": "code",
   "execution_count": null,
   "metadata": {},
   "outputs": [],
   "source": [
    "orgdata = data"
   ]
  },
  {
   "cell_type": "code",
   "execution_count": null,
   "metadata": {},
   "outputs": [],
   "source": [
    "print(data.shape)"
   ]
  },
  {
   "cell_type": "code",
   "execution_count": 2,
   "metadata": {},
   "outputs": [
    {
     "name": "stdout",
     "output_type": "stream",
     "text": [
      "1.6\n",
      "129730\n",
      "([30890, 1160, 8718, 294, 23445, 350, 2572, 15766, 63450, 785, 285, 32439, 401, 1536, 1027, 63446, 4472, 670, 5507, 483, 6579, 383, 5057, 63423, 63484, 63484, 63453, 63497, 63455, 48109, 30890, 279, 434, 8718, 4732, 437, 63443, 30890, 29555, 1738, 425, 324, 1290, 7712, 1414, 63443, 30890, 670, 5507, 483, 10631, 63437, 9657, 14417, 63443, 9435, 25867, 552, 5992, 623, 362, 8390, 63443], (3, A_duration                                 nan\n",
      "A_duration__REF                      100 - 176\n",
      "A_mitr_Vmax                                0.7\n",
      "A_mitr_Vmax__REF                   0,26 - 0,90\n",
      "age                                         66\n",
      "                                   ...        \n",
      "VK_volym_3D_syst_BSA__REF               9 - 29\n",
      "VK_volym_tei_diast           118.2432432432432\n",
      "VK_volym_tei_syst                          nan\n",
      "VKs                                        nan\n",
      "VKs_BSA                                    nan\n",
      "Name: 3, Length: 486, dtype: object))\n",
      "129730\n",
      "1.6\n",
      "1.6\n"
     ]
    }
   ],
   "source": [
    "from sklearn.model_selection import train_test_split\n",
    "from transformers import AutoTokenizer\n",
    "import numpy as np\n",
    "\n",
    "model_name = \"AI-Sweden-Models/gpt-sw3-1.3b\"\n",
    "\n",
    "#data = pb.read_excel('updFAKSexp.xlsx')\n",
    "print(\"1.6\")\n",
    "\n",
    "\n",
    "data = data.astype(str)\n",
    "\n",
    "#print(data.iloc[:, 0])\n",
    "#print(data.iloc[:, 1:])\n",
    "\n",
    "# Tokenisera texten med en tokeniserare\n",
    "tokenizer = AutoTokenizer.from_pretrained(model_name)\n",
    "\n",
    "\n",
    "input_tokens = [tokenizer.encode(input_text) for input_text in data.iloc[:, 1:].iterrows()]\n",
    "print(len(input_tokens))\n",
    "output_tokens = [tokenizer.encode(output_text) for output_text in data.iloc[:, 0]]\n",
    "\n",
    "\n",
    "\n",
    "par_tokens = [(output_tokens[i], input_tokens[i])for i in range(len(input_tokens))]\n",
    "\n",
    "print(par_tokens[3])\n",
    "print(len(par_tokens))\n",
    "\n",
    "print(\"1.6\")\n",
    "\n",
    "# Dela upp datamängden enligt 80-10-10-split\n",
    "train_texts, val_and_test_texts = train_test_split(par_tokens, test_size=0.2, random_state=42) #måste läsa lite om random_state\n",
    "val_texts, test_texts = train_test_split(val_and_test_texts, test_size=0.5, random_state=42)\n",
    "print(\"1.6\")\n",
    "\n",
    "'''PatientJournalText_train, PatientJournalText_val_and_test = train_test_split(output_tokens, test_size=0.2, random_state=42)\n",
    "PatientJournalText_val, PatientJournalText_test = train_test_split(PatientJournalText_val_and_test, test_size=0.5, random_state=42)\n",
    "InputData_train, InputData_val_and_test = train_test_split(input_tokens, test_size=0.2, random_state=42)\n",
    "InputData_val, InputData_test = train_test_split(InputData_val_and_test, test_size=0.5, random_state=42)         blir random och har då inte rätt par''' \n",
    "\n",
    "\n",
    "#print(test_texts)\n",
    "#print(train_texts)\n",
    "\n",
    "# Spara de delade datamängderna till separata filer\n",
    "with open('train_data.txt', 'w') as f:\n",
    "    for text in train_texts:\n",
    "        f.write(' '.join(map(str, text)) + '\\n')\n",
    "\n",
    "with open('val_data.txt', 'w') as f:\n",
    "    for text in val_texts:\n",
    "        f.write(' '.join(map(str, text)) + '\\n')\n",
    "\n",
    "\n",
    "with open('test_data.txt', 'w') as f:\n",
    "    for text in test_texts:\n",
    "        f.write(' '.join(map(str, text)) + '\\n')\n"
   ]
  },
  {
   "cell_type": "code",
   "execution_count": 4,
   "metadata": {},
   "outputs": [],
   "source": [
    "output_tokens_from_par_train = [item[0] for item in train_texts]\n",
    "output_tokens_from_par_val = [item[0] for item in val_texts]\n",
    "output_tokens_from_par_test = [item[0] for item in test_texts]\n",
    "input_tokens_from_par_train = [item[1:] for item in train_texts]\n",
    "input_tokens_from_par_val = [item[1:] for item in val_texts]\n",
    "input_tokens_from_par_test = [item[1:] for item in test_texts]\n",
    "\n",
    "PatientJournalText_train_small = output_tokens_from_par_train[:80]\n",
    "PatientJournalText_val_small = output_tokens_from_par_val[:10]\n",
    "PatientJournalText_test_small = output_tokens_from_par_test[:10]\n",
    "InputData_train_small = input_tokens_from_par_train[:80]\n",
    "InputData_val_small = input_tokens_from_par_val[:10]\n",
    "InputData_test_small = input_tokens_from_par_test[:10]"
   ]
  },
  {
   "cell_type": "code",
   "execution_count": 1,
   "metadata": {},
   "outputs": [
    {
     "ename": "NameError",
     "evalue": "name 'model_name' is not defined",
     "output_type": "error",
     "traceback": [
      "\u001b[1;31m---------------------------------------------------------------------------\u001b[0m",
      "\u001b[1;31mNameError\u001b[0m                                 Traceback (most recent call last)",
      "Cell \u001b[1;32mIn[1], line 5\u001b[0m\n\u001b[0;32m      2\u001b[0m \u001b[38;5;28;01mimport\u001b[39;00m \u001b[38;5;21;01mnumpy\u001b[39;00m \u001b[38;5;28;01mas\u001b[39;00m \u001b[38;5;21;01mnp\u001b[39;00m\n\u001b[0;32m      3\u001b[0m \u001b[38;5;28;01mimport\u001b[39;00m \u001b[38;5;21;01mevaluate\u001b[39;00m\n\u001b[1;32m----> 5\u001b[0m model \u001b[38;5;241m=\u001b[39m AutoModelForCausalLM\u001b[38;5;241m.\u001b[39mfrom_pretrained(\u001b[43mmodel_name\u001b[49m)\n\u001b[0;32m      7\u001b[0m training_args \u001b[38;5;241m=\u001b[39m TrainingArguments(\n\u001b[0;32m      8\u001b[0m     output_dir\u001b[38;5;241m=\u001b[39m\u001b[38;5;124m\"\u001b[39m\u001b[38;5;124mtest_trainer\u001b[39m\u001b[38;5;124m\"\u001b[39m, \n\u001b[0;32m      9\u001b[0m     evaluation_strategy\u001b[38;5;241m=\u001b[39m\u001b[38;5;124m\"\u001b[39m\u001b[38;5;124mepoch\u001b[39m\u001b[38;5;124m\"\u001b[39m,\n\u001b[1;32m   (...)\u001b[0m\n\u001b[0;32m     14\u001b[0m     save_steps\u001b[38;5;241m=\u001b[39m\u001b[38;5;241m200\u001b[39m,\n\u001b[0;32m     15\u001b[0m     logging_dir\u001b[38;5;241m=\u001b[39m\u001b[38;5;124m\"\u001b[39m\u001b[38;5;124m./logs\u001b[39m\u001b[38;5;124m\"\u001b[39m)\n\u001b[0;32m     16\u001b[0m metric \u001b[38;5;241m=\u001b[39m evaluate\u001b[38;5;241m.\u001b[39mload(\u001b[38;5;124m\"\u001b[39m\u001b[38;5;124maccuracy\u001b[39m\u001b[38;5;124m\"\u001b[39m)\n",
      "\u001b[1;31mNameError\u001b[0m: name 'model_name' is not defined"
     ]
    }
   ],
   "source": [
    "from transformers import TrainingArguments, Trainer, AutoTokenizer, AutoModelForCausalLM\n",
    "import numpy as np\n",
    "import evaluate\n",
    "\n",
    "model_name = \"AI-Sweden-Models/gpt-sw3-1.3b\"\n",
    "\n",
    "model = AutoModelForCausalLM.from_pretrained(model_name)\n",
    "\n",
    "training_args = TrainingArguments(\n",
    "    output_dir=\"test_trainer\", \n",
    "    evaluation_strategy=\"epoch\",\n",
    "    num_train_epochs=3,\n",
    "    per_device_train_batch_size=8,\n",
    "    per_device_eval_batch_size=16,\n",
    "    logging_steps=100,\n",
    "    save_steps=200,\n",
    "    logging_dir=\"./logs\")\n",
    "metric = evaluate.load(\"accuracy\")\n",
    "\n",
    "def compute_metrics(eval_pred):\n",
    "    logits, labels = eval_pred\n",
    "    predictions = np.argmax(logits, axis=-1)\n",
    "    return metric.compute(predictions=predictions, references=labels)\n",
    "\n",
    "trainer = Trainer(\n",
    "    model = model,\n",
    "    args = training_args,\n",
    "    train_dataset= PatientJournalText_test_small,\n",
    "    eval_dataset= PatientJournalText_val_small,\n",
    "    compute_metrics= compute_metrics,\n",
    ")\n",
    "\n",
    "trainer.train()\n"
   ]
  },
  {
   "cell_type": "code",
   "execution_count": 3,
   "metadata": {},
   "outputs": [
    {
     "name": "stdout",
     "output_type": "stream",
     "text": [
      "----------------\n",
      "[18870, 12608, 1212, 3750, 332, 14851, 18050, 30503, 63443, 27216, 63453, 3316, 18050, 63423, 63459, 63496, 63489, 63484, 353, 8961, 63446, 63423, 63459, 63443, 63491, 298, 63481, 63435, 63443, 16398, 63481, 823, 602, 34138, 19420, 63423, 63496, 3532, 63470, 63459, 63483, 63446, 467, 63459, 16042, 63423, 63489, 63455, 14959, 18, 59107, 12465, 415, 25867, 552, 533, 459, 662, 305, 900, 2954, 279, 10470, 437, 293, 13014, 63443, 30890, 7675, 8718, 63437, 23445, 350, 6136, 12479, 459, 2481, 63429, 1221, 14792, 30374, 54145, 63446, 13085, 636, 24030, 670, 5507, 483, 6579, 63446, 46939, 5057, 63423, 63480, 63455, 63453, 63480, 63484, 14502, 4116, 5862, 15964, 1090, 338, 51032, 6197, 63423, 63459, 63455, 11679, 1535, 63423, 63456, 63446, 63459, 63491, 416, 63481, 958, 383, 20438, 5196, 2952, 2379, 16413, 21771, 338, 1361, 731, 30890, 7675, 10631, 63437, 23445, 350, 2572, 24030, 670, 5507, 483, 6579, 63443, 21212, 63453, 11415, 2912, 3664, 342, 55218, 63446, 477, 4228, 27473, 4131, 12465, 332, 54533, 382, 56839, 63443, 10682, 279, 17250, 21950, 6117, 1758, 299, 63453, 338, 506, 340, 418, 25020, 293, 14592, 33173, 14730, 63443, 5330, 11361, 11409, 852, 340, 662, 49441, 555, 63443, 61319, 2111, 63458, 11926, 636, 350, 390, 63453, 9035, 8718, 11451, 784, 63443, 63423, 18, 18, 33101, 2581, 13014, 1026, 364, 18378, 63443, 63423, 18, 18]\n",
      "((0, A_duration                           nan\n",
      "A_duration__REF                101 - 153\n",
      "A_mitr_Vmax                          0.4\n",
      "A_mitr_Vmax__REF             0,26 - 0,90\n",
      "age                                   36\n",
      "                                ...     \n",
      "VK_volym_3D_syst_BSA__REF         9 - 29\n",
      "VK_volym_tei_diast                107.52\n",
      "VK_volym_tei_syst                    nan\n",
      "VKs                                  nan\n",
      "VKs_BSA                              nan\n",
      "Name: 0, Length: 486, dtype: object),)\n"
     ]
    }
   ],
   "source": [
    "print(\"----------------\")\n",
    "output_tokens_from_par = [item[0] for item in par_tokens]\n",
    "print(output_tokens_from_par[0])\n",
    "output_tokens_from_par = [item[1:] for item in par_tokens]\n",
    "print(output_tokens_from_par[0])"
   ]
  },
  {
   "cell_type": "code",
   "execution_count": 9,
   "metadata": {},
   "outputs": [
    {
     "name": "stdout",
     "output_type": "stream",
     "text": [
      "True\n",
      "0.28.0\n"
     ]
    }
   ],
   "source": [
    "from transformers.utils.import_utils import _is_package_available\n",
    "_accelerate_available, _accelerate_version = _is_package_available(\"accelerate\", return_version=True)\n",
    "print(_accelerate_available)\n",
    "print(_accelerate_version)"
   ]
  }
 ],
 "metadata": {
  "kernelspec": {
   "display_name": ".env",
   "language": "python",
   "name": "python3"
  },
  "language_info": {
   "codemirror_mode": {
    "name": "ipython",
    "version": 3
   },
   "file_extension": ".py",
   "mimetype": "text/x-python",
   "name": "python",
   "nbconvert_exporter": "python",
   "pygments_lexer": "ipython3",
   "version": "3.12.2"
  }
 },
 "nbformat": 4,
 "nbformat_minor": 2
}
