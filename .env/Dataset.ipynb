{
 "cells": [
  {
   "cell_type": "code",
   "execution_count": null,
   "metadata": {},
   "outputs": [],
   "source": [
    "import pandas as pb\n",
    "\n",
    "data = pb.read_excel('FAKSexport.xlsx')\n",
    "#print(data)\n",
    "print(data.shape)\n",
    "\n"
   ]
  },
  {
   "cell_type": "code",
   "execution_count": null,
   "metadata": {},
   "outputs": [],
   "source": [
    "import pandas as pb\n",
    "\n",
    "Smaldata = pb.read_excel('SmalFAKS.xlsx')\n",
    "#print(data)\n",
    "print(Smaldata.shape)\n"
   ]
  },
  {
   "cell_type": "code",
   "execution_count": null,
   "metadata": {},
   "outputs": [],
   "source": []
  },
  {
   "cell_type": "code",
   "execution_count": null,
   "metadata": {},
   "outputs": [],
   "source": [
    "import pandas as pd\n",
    "\n",
    "# Konvertera alla kolumnnamn till strängar för att undvika TypeError\n",
    "Smaldata.columns = Smaldata.columns.astype(str)\n",
    "data.columns = data.columns.astype(str)\n",
    "\n",
    "print(\"1.6\")\n",
    "# Sök efter kolumner som innehåller det specifika ordet\n",
    "word_to_remove = 'checkbox'\n",
    "columns_to_remove = [col for col in Smaldata.columns if word_to_remove in col]\n",
    "\n",
    "print(Smaldata.shape)\n",
    "print(data.shape)\n",
    "print(\"2\")\n",
    "# Ta bort de hittade kolumnerna från DataFrame\n",
    "data = data.drop(columns=columns_to_remove)\n",
    "\n",
    "print(Smaldata.shape)\n",
    "print(data.shape)\n",
    "print(\"3\")\n",
    "# Spara den uppdaterade DataFrame till en ny Excel-fil eller samma fil\n",
    "data.to_excel('updFAKSexp.xlsx', index=False)"
   ]
  },
  {
   "cell_type": "code",
   "execution_count": 3,
   "metadata": {},
   "outputs": [
    {
     "name": "stdout",
     "output_type": "stream",
     "text": [
      "1\n",
      "(129730, 487)\n"
     ]
    }
   ],
   "source": [
    "import pandas as pb\n",
    "data = pb.read_excel('updFAKSexp.xlsx')\n",
    "print(1)\n",
    "#data.to_csv('updFAKSexpCSV.csv')\n",
    "data_np = data.to_numpy()\n",
    "print(data.shape)"
   ]
  },
  {
   "cell_type": "code",
   "execution_count": null,
   "metadata": {},
   "outputs": [],
   "source": [
    "orgdata = data"
   ]
  },
  {
   "cell_type": "code",
   "execution_count": null,
   "metadata": {},
   "outputs": [],
   "source": [
    "print(data.shape)"
   ]
  },
  {
   "cell_type": "code",
   "execution_count": 4,
   "metadata": {},
   "outputs": [
    {
     "name": "stdout",
     "output_type": "stream",
     "text": [
      "1.6\n",
      "129730\n",
      "([30890, 1160, 8718, 294, 23445, 350, 2572, 15766, 63450, 785, 285, 32439, 401, 1536, 1027, 63446, 4472, 670, 5507, 483, 6579, 383, 5057, 63423, 63484, 63484, 63453, 63497, 63455, 48109, 30890, 279, 434, 8718, 4732, 437, 63443, 30890, 29555, 1738, 425, 324, 1290, 7712, 1414, 63443, 30890, 670, 5507, 483, 10631, 63437, 9657, 14417, 63443, 9435, 25867, 552, 5992, 623, 362, 8390, 63443], (3, A_duration                                 nan\n",
      "A_duration__REF                      100 - 176\n",
      "A_mitr_Vmax                                0.7\n",
      "A_mitr_Vmax__REF                   0,26 - 0,90\n",
      "age                                         66\n",
      "                                   ...        \n",
      "VK_volym_3D_syst_BSA__REF               9 - 29\n",
      "VK_volym_tei_diast           118.2432432432432\n",
      "VK_volym_tei_syst                          nan\n",
      "VKs                                        nan\n",
      "VKs_BSA                                    nan\n",
      "Name: 3, Length: 486, dtype: object))\n",
      "129730\n",
      "1.6\n",
      "1.6\n"
     ]
    }
   ],
   "source": [
    "from sklearn.model_selection import train_test_split\n",
    "from transformers import AutoTokenizer\n",
    "import numpy as np\n",
    "\n",
    "model_name = \"AI-Sweden-Models/gpt-sw3-1.3b\"\n",
    "\n",
    "#data = pb.read_excel('updFAKSexp.xlsx')\n",
    "print(\"1.6\")\n",
    "\n",
    "\n",
    "data = data.astype(str)\n",
    "\n",
    "#print(data.iloc[:, 0])\n",
    "#print(data.iloc[:, 1:])\n",
    "\n",
    "# Tokenisera texten med en tokeniserare\n",
    "tokenizer = AutoTokenizer.from_pretrained(model_name)\n",
    "\n",
    "\n",
    "input_tokens = [tokenizer.encode(input_text) for input_text in data.iloc[:, 1:].iterrows()]\n",
    "print(len(input_tokens))\n",
    "output_tokens = [tokenizer.encode(output_text) for output_text in data.iloc[:, 0]]\n",
    "\n",
    "\n",
    "\n",
    "par_tokens = [(output_tokens[i], input_tokens[i])for i in range(len(input_tokens))]\n",
    "\n",
    "print(par_tokens[3])\n",
    "print(len(par_tokens))\n",
    "\n",
    "print(\"1.6\")\n",
    "\n",
    "# Dela upp datamängden enligt 80-10-10-split\n",
    "train_texts, val_and_test_texts = train_test_split(par_tokens, test_size=0.2, random_state=42) #måste läsa lite om random_state\n",
    "val_texts, test_texts = train_test_split(val_and_test_texts, test_size=0.5, random_state=42)\n",
    "print(\"1.6\")\n",
    "\n",
    "'''PatientJournalText_train, PatientJournalText_val_and_test = train_test_split(output_tokens, test_size=0.2, random_state=42)\n",
    "PatientJournalText_val, PatientJournalText_test = train_test_split(PatientJournalText_val_and_test, test_size=0.5, random_state=42)\n",
    "InputData_train, InputData_val_and_test = train_test_split(input_tokens, test_size=0.2, random_state=42)\n",
    "InputData_val, InputData_test = train_test_split(InputData_val_and_test, test_size=0.5, random_state=42)         blir random och har då inte rätt par''' \n",
    "\n",
    "\n",
    "#print(test_texts)\n",
    "#print(train_texts)\n",
    "\n",
    "# Spara de delade datamängderna till separata filer\n",
    "with open('train_data.txt', 'w') as f:\n",
    "    for text in train_texts:\n",
    "        f.write(' '.join(map(str, text)) + '\\n')\n",
    "\n",
    "with open('val_data.txt', 'w') as f:\n",
    "    for text in val_texts:\n",
    "        f.write(' '.join(map(str, text)) + '\\n')\n",
    "\n",
    "\n",
    "with open('test_data.txt', 'w') as f:\n",
    "    for text in test_texts:\n",
    "        f.write(' '.join(map(str, text)) + '\\n')\n"
   ]
  },
  {
   "cell_type": "code",
   "execution_count": 5,
   "metadata": {},
   "outputs": [],
   "source": [
    "output_tokens_from_par_train = [item[0] for item in train_texts]\n",
    "output_tokens_from_par_val = [item[0] for item in val_texts]\n",
    "output_tokens_from_par_test = [item[0] for item in test_texts]\n",
    "input_tokens_from_par_train = [item[1:] for item in train_texts]\n",
    "input_tokens_from_par_val = [item[1:] for item in val_texts]\n",
    "input_tokens_from_par_test = [item[1:] for item in test_texts]\n",
    "\n",
    "PatientJournalText_train_small = output_tokens_from_par_train[:80]\n",
    "PatientJournalText_val_small = output_tokens_from_par_val[:10]\n",
    "PatientJournalText_test_small = output_tokens_from_par_test[:10]\n",
    "InputData_train_small = input_tokens_from_par_train[:80]\n",
    "InputData_val_small = input_tokens_from_par_val[:10]\n",
    "InputData_test_small = input_tokens_from_par_test[:10]"
   ]
  },
  {
   "cell_type": "code",
   "execution_count": null,
   "metadata": {},
   "outputs": [],
   "source": [
    "import torch\n",
    "from transformers import TrainingArguments, Trainer, AutoTokenizer, AutoModelForCausalLM\n",
    "\n",
    "class MyDataset(torch.utils.data.Dataset):\n",
    "    def __init__(self, data, PatientJournalText_train_small, PatientJournalText_val_small, PatientJournalText_test_small, \n",
    "                 InputData_train_small, InputData_val_small, InputData_test_small):\n",
    "        self.input_tokens = input_tokens\n",
    "        self.output_tokens = output_tokens\n",
    "        self.data = data\n",
    "\n",
    "    def __len__(self):\n",
    "        return len(self.data)\n",
    "\n",
    "    def __getitem__(self, idx):        \n",
    "        return {\"input_ids\": input_tokens[\"input_ids\"], \"labels\": output_tokens[\"lables\"]}\n"
   ]
  },
  {
   "cell_type": "code",
   "execution_count": 6,
   "metadata": {},
   "outputs": [
    {
     "name": "stderr",
     "output_type": "stream",
     "text": [
      "c:\\KEXLocalGit\\KEX1\\.env\\Lib\\site-packages\\accelerate\\accelerator.py:432: FutureWarning: Passing the following arguments to `Accelerator` is deprecated and will be removed in version 1.0 of Accelerate: dict_keys(['dispatch_batches', 'split_batches', 'even_batches', 'use_seedable_sampler']). Please pass an `accelerate.DataLoaderConfiguration` instead: \n",
      "dataloader_config = DataLoaderConfiguration(dispatch_batches=None, split_batches=False, even_batches=True, use_seedable_sampler=True)\n",
      "  warnings.warn(\n"
     ]
    },
    {
     "data": {
      "application/vnd.jupyter.widget-view+json": {
       "model_id": "907b8c168cb94b55a4bb8df48ecb8d97",
       "version_major": 2,
       "version_minor": 0
      },
      "text/plain": [
       "  0%|          | 0/6 [00:00<?, ?it/s]"
      ]
     },
     "metadata": {},
     "output_type": "display_data"
    },
    {
     "ename": "TypeError",
     "evalue": "vars() argument must have __dict__ attribute",
     "output_type": "error",
     "traceback": [
      "\u001b[1;31m---------------------------------------------------------------------------\u001b[0m",
      "\u001b[1;31mTypeError\u001b[0m                                 Traceback (most recent call last)",
      "Cell \u001b[1;32mIn[6], line 33\u001b[0m\n\u001b[0;32m     23\u001b[0m     \u001b[38;5;28;01mreturn\u001b[39;00m metric\u001b[38;5;241m.\u001b[39mcompute(predictions\u001b[38;5;241m=\u001b[39mpredictions, references\u001b[38;5;241m=\u001b[39mlabels)\n\u001b[0;32m     25\u001b[0m trainer \u001b[38;5;241m=\u001b[39m Trainer(\n\u001b[0;32m     26\u001b[0m     model \u001b[38;5;241m=\u001b[39m model,\n\u001b[0;32m     27\u001b[0m     args \u001b[38;5;241m=\u001b[39m training_args,\n\u001b[1;32m   (...)\u001b[0m\n\u001b[0;32m     30\u001b[0m     compute_metrics\u001b[38;5;241m=\u001b[39m compute_metrics,\n\u001b[0;32m     31\u001b[0m )\n\u001b[1;32m---> 33\u001b[0m \u001b[43mtrainer\u001b[49m\u001b[38;5;241;43m.\u001b[39;49m\u001b[43mtrain\u001b[49m\u001b[43m(\u001b[49m\u001b[43m)\u001b[49m\n",
      "File \u001b[1;32mc:\\KEXLocalGit\\KEX1\\.env\\Lib\\site-packages\\transformers\\trainer.py:1780\u001b[0m, in \u001b[0;36mTrainer.train\u001b[1;34m(self, resume_from_checkpoint, trial, ignore_keys_for_eval, **kwargs)\u001b[0m\n\u001b[0;32m   1778\u001b[0m         hf_hub_utils\u001b[38;5;241m.\u001b[39menable_progress_bars()\n\u001b[0;32m   1779\u001b[0m \u001b[38;5;28;01melse\u001b[39;00m:\n\u001b[1;32m-> 1780\u001b[0m     \u001b[38;5;28;01mreturn\u001b[39;00m \u001b[43minner_training_loop\u001b[49m\u001b[43m(\u001b[49m\n\u001b[0;32m   1781\u001b[0m \u001b[43m        \u001b[49m\u001b[43margs\u001b[49m\u001b[38;5;241;43m=\u001b[39;49m\u001b[43margs\u001b[49m\u001b[43m,\u001b[49m\n\u001b[0;32m   1782\u001b[0m \u001b[43m        \u001b[49m\u001b[43mresume_from_checkpoint\u001b[49m\u001b[38;5;241;43m=\u001b[39;49m\u001b[43mresume_from_checkpoint\u001b[49m\u001b[43m,\u001b[49m\n\u001b[0;32m   1783\u001b[0m \u001b[43m        \u001b[49m\u001b[43mtrial\u001b[49m\u001b[38;5;241;43m=\u001b[39;49m\u001b[43mtrial\u001b[49m\u001b[43m,\u001b[49m\n\u001b[0;32m   1784\u001b[0m \u001b[43m        \u001b[49m\u001b[43mignore_keys_for_eval\u001b[49m\u001b[38;5;241;43m=\u001b[39;49m\u001b[43mignore_keys_for_eval\u001b[49m\u001b[43m,\u001b[49m\n\u001b[0;32m   1785\u001b[0m \u001b[43m    \u001b[49m\u001b[43m)\u001b[49m\n",
      "File \u001b[1;32mc:\\KEXLocalGit\\KEX1\\.env\\Lib\\site-packages\\transformers\\trainer.py:2085\u001b[0m, in \u001b[0;36mTrainer._inner_training_loop\u001b[1;34m(self, batch_size, args, resume_from_checkpoint, trial, ignore_keys_for_eval)\u001b[0m\n\u001b[0;32m   2082\u001b[0m     rng_to_sync \u001b[38;5;241m=\u001b[39m \u001b[38;5;28;01mTrue\u001b[39;00m\n\u001b[0;32m   2084\u001b[0m step \u001b[38;5;241m=\u001b[39m \u001b[38;5;241m-\u001b[39m\u001b[38;5;241m1\u001b[39m\n\u001b[1;32m-> 2085\u001b[0m \u001b[43m\u001b[49m\u001b[38;5;28;43;01mfor\u001b[39;49;00m\u001b[43m \u001b[49m\u001b[43mstep\u001b[49m\u001b[43m,\u001b[49m\u001b[43m \u001b[49m\u001b[43minputs\u001b[49m\u001b[43m \u001b[49m\u001b[38;5;129;43;01min\u001b[39;49;00m\u001b[43m \u001b[49m\u001b[38;5;28;43menumerate\u001b[39;49m\u001b[43m(\u001b[49m\u001b[43mepoch_iterator\u001b[49m\u001b[43m)\u001b[49m\u001b[43m:\u001b[49m\n\u001b[0;32m   2086\u001b[0m \u001b[43m    \u001b[49m\u001b[43mtotal_batched_samples\u001b[49m\u001b[43m \u001b[49m\u001b[38;5;241;43m+\u001b[39;49m\u001b[38;5;241;43m=\u001b[39;49m\u001b[43m \u001b[49m\u001b[38;5;241;43m1\u001b[39;49m\n\u001b[0;32m   2088\u001b[0m \u001b[43m    \u001b[49m\u001b[38;5;28;43;01mif\u001b[39;49;00m\u001b[43m \u001b[49m\u001b[38;5;28;43mself\u001b[39;49m\u001b[38;5;241;43m.\u001b[39;49m\u001b[43margs\u001b[49m\u001b[38;5;241;43m.\u001b[39;49m\u001b[43minclude_num_input_tokens_seen\u001b[49m\u001b[43m:\u001b[49m\n",
      "File \u001b[1;32mc:\\KEXLocalGit\\KEX1\\.env\\Lib\\site-packages\\accelerate\\data_loader.py:452\u001b[0m, in \u001b[0;36mDataLoaderShard.__iter__\u001b[1;34m(self)\u001b[0m\n\u001b[0;32m    450\u001b[0m \u001b[38;5;66;03m# We iterate one batch ahead to check when we are at the end\u001b[39;00m\n\u001b[0;32m    451\u001b[0m \u001b[38;5;28;01mtry\u001b[39;00m:\n\u001b[1;32m--> 452\u001b[0m     current_batch \u001b[38;5;241m=\u001b[39m \u001b[38;5;28;43mnext\u001b[39;49m\u001b[43m(\u001b[49m\u001b[43mdataloader_iter\u001b[49m\u001b[43m)\u001b[49m\n\u001b[0;32m    453\u001b[0m \u001b[38;5;28;01mexcept\u001b[39;00m \u001b[38;5;167;01mStopIteration\u001b[39;00m:\n\u001b[0;32m    454\u001b[0m     \u001b[38;5;28;01myield\u001b[39;00m\n",
      "File \u001b[1;32mc:\\KEXLocalGit\\KEX1\\.env\\Lib\\site-packages\\torch\\utils\\data\\dataloader.py:631\u001b[0m, in \u001b[0;36m_BaseDataLoaderIter.__next__\u001b[1;34m(self)\u001b[0m\n\u001b[0;32m    628\u001b[0m \u001b[38;5;28;01mif\u001b[39;00m \u001b[38;5;28mself\u001b[39m\u001b[38;5;241m.\u001b[39m_sampler_iter \u001b[38;5;129;01mis\u001b[39;00m \u001b[38;5;28;01mNone\u001b[39;00m:\n\u001b[0;32m    629\u001b[0m     \u001b[38;5;66;03m# TODO(https://github.com/pytorch/pytorch/issues/76750)\u001b[39;00m\n\u001b[0;32m    630\u001b[0m     \u001b[38;5;28mself\u001b[39m\u001b[38;5;241m.\u001b[39m_reset()  \u001b[38;5;66;03m# type: ignore[call-arg]\u001b[39;00m\n\u001b[1;32m--> 631\u001b[0m data \u001b[38;5;241m=\u001b[39m \u001b[38;5;28;43mself\u001b[39;49m\u001b[38;5;241;43m.\u001b[39;49m\u001b[43m_next_data\u001b[49m\u001b[43m(\u001b[49m\u001b[43m)\u001b[49m\n\u001b[0;32m    632\u001b[0m \u001b[38;5;28mself\u001b[39m\u001b[38;5;241m.\u001b[39m_num_yielded \u001b[38;5;241m+\u001b[39m\u001b[38;5;241m=\u001b[39m \u001b[38;5;241m1\u001b[39m\n\u001b[0;32m    633\u001b[0m \u001b[38;5;28;01mif\u001b[39;00m \u001b[38;5;28mself\u001b[39m\u001b[38;5;241m.\u001b[39m_dataset_kind \u001b[38;5;241m==\u001b[39m _DatasetKind\u001b[38;5;241m.\u001b[39mIterable \u001b[38;5;129;01mand\u001b[39;00m \\\n\u001b[0;32m    634\u001b[0m         \u001b[38;5;28mself\u001b[39m\u001b[38;5;241m.\u001b[39m_IterableDataset_len_called \u001b[38;5;129;01mis\u001b[39;00m \u001b[38;5;129;01mnot\u001b[39;00m \u001b[38;5;28;01mNone\u001b[39;00m \u001b[38;5;129;01mand\u001b[39;00m \\\n\u001b[0;32m    635\u001b[0m         \u001b[38;5;28mself\u001b[39m\u001b[38;5;241m.\u001b[39m_num_yielded \u001b[38;5;241m>\u001b[39m \u001b[38;5;28mself\u001b[39m\u001b[38;5;241m.\u001b[39m_IterableDataset_len_called:\n",
      "File \u001b[1;32mc:\\KEXLocalGit\\KEX1\\.env\\Lib\\site-packages\\torch\\utils\\data\\dataloader.py:675\u001b[0m, in \u001b[0;36m_SingleProcessDataLoaderIter._next_data\u001b[1;34m(self)\u001b[0m\n\u001b[0;32m    673\u001b[0m \u001b[38;5;28;01mdef\u001b[39;00m \u001b[38;5;21m_next_data\u001b[39m(\u001b[38;5;28mself\u001b[39m):\n\u001b[0;32m    674\u001b[0m     index \u001b[38;5;241m=\u001b[39m \u001b[38;5;28mself\u001b[39m\u001b[38;5;241m.\u001b[39m_next_index()  \u001b[38;5;66;03m# may raise StopIteration\u001b[39;00m\n\u001b[1;32m--> 675\u001b[0m     data \u001b[38;5;241m=\u001b[39m \u001b[38;5;28;43mself\u001b[39;49m\u001b[38;5;241;43m.\u001b[39;49m\u001b[43m_dataset_fetcher\u001b[49m\u001b[38;5;241;43m.\u001b[39;49m\u001b[43mfetch\u001b[49m\u001b[43m(\u001b[49m\u001b[43mindex\u001b[49m\u001b[43m)\u001b[49m  \u001b[38;5;66;03m# may raise StopIteration\u001b[39;00m\n\u001b[0;32m    676\u001b[0m     \u001b[38;5;28;01mif\u001b[39;00m \u001b[38;5;28mself\u001b[39m\u001b[38;5;241m.\u001b[39m_pin_memory:\n\u001b[0;32m    677\u001b[0m         data \u001b[38;5;241m=\u001b[39m _utils\u001b[38;5;241m.\u001b[39mpin_memory\u001b[38;5;241m.\u001b[39mpin_memory(data, \u001b[38;5;28mself\u001b[39m\u001b[38;5;241m.\u001b[39m_pin_memory_device)\n",
      "File \u001b[1;32mc:\\KEXLocalGit\\KEX1\\.env\\Lib\\site-packages\\torch\\utils\\data\\_utils\\fetch.py:54\u001b[0m, in \u001b[0;36m_MapDatasetFetcher.fetch\u001b[1;34m(self, possibly_batched_index)\u001b[0m\n\u001b[0;32m     52\u001b[0m \u001b[38;5;28;01melse\u001b[39;00m:\n\u001b[0;32m     53\u001b[0m     data \u001b[38;5;241m=\u001b[39m \u001b[38;5;28mself\u001b[39m\u001b[38;5;241m.\u001b[39mdataset[possibly_batched_index]\n\u001b[1;32m---> 54\u001b[0m \u001b[38;5;28;01mreturn\u001b[39;00m \u001b[38;5;28;43mself\u001b[39;49m\u001b[38;5;241;43m.\u001b[39;49m\u001b[43mcollate_fn\u001b[49m\u001b[43m(\u001b[49m\u001b[43mdata\u001b[49m\u001b[43m)\u001b[49m\n",
      "File \u001b[1;32mc:\\KEXLocalGit\\KEX1\\.env\\Lib\\site-packages\\transformers\\trainer_utils.py:787\u001b[0m, in \u001b[0;36mRemoveColumnsCollator.__call__\u001b[1;34m(self, features)\u001b[0m\n\u001b[0;32m    785\u001b[0m \u001b[38;5;28;01mdef\u001b[39;00m \u001b[38;5;21m__call__\u001b[39m(\u001b[38;5;28mself\u001b[39m, features: List[\u001b[38;5;28mdict\u001b[39m]):\n\u001b[0;32m    786\u001b[0m     features \u001b[38;5;241m=\u001b[39m [\u001b[38;5;28mself\u001b[39m\u001b[38;5;241m.\u001b[39m_remove_columns(feature) \u001b[38;5;28;01mfor\u001b[39;00m feature \u001b[38;5;129;01min\u001b[39;00m features]\n\u001b[1;32m--> 787\u001b[0m     \u001b[38;5;28;01mreturn\u001b[39;00m \u001b[38;5;28;43mself\u001b[39;49m\u001b[38;5;241;43m.\u001b[39;49m\u001b[43mdata_collator\u001b[49m\u001b[43m(\u001b[49m\u001b[43mfeatures\u001b[49m\u001b[43m)\u001b[49m\n",
      "File \u001b[1;32mc:\\KEXLocalGit\\KEX1\\.env\\Lib\\site-packages\\transformers\\data\\data_collator.py:92\u001b[0m, in \u001b[0;36mdefault_data_collator\u001b[1;34m(features, return_tensors)\u001b[0m\n\u001b[0;32m     86\u001b[0m \u001b[38;5;66;03m# In this function we'll make the assumption that all `features` in the batch\u001b[39;00m\n\u001b[0;32m     87\u001b[0m \u001b[38;5;66;03m# have the same attributes.\u001b[39;00m\n\u001b[0;32m     88\u001b[0m \u001b[38;5;66;03m# So we will look at the first element as a proxy for what attributes exist\u001b[39;00m\n\u001b[0;32m     89\u001b[0m \u001b[38;5;66;03m# on the whole batch.\u001b[39;00m\n\u001b[0;32m     91\u001b[0m \u001b[38;5;28;01mif\u001b[39;00m return_tensors \u001b[38;5;241m==\u001b[39m \u001b[38;5;124m\"\u001b[39m\u001b[38;5;124mpt\u001b[39m\u001b[38;5;124m\"\u001b[39m:\n\u001b[1;32m---> 92\u001b[0m     \u001b[38;5;28;01mreturn\u001b[39;00m \u001b[43mtorch_default_data_collator\u001b[49m\u001b[43m(\u001b[49m\u001b[43mfeatures\u001b[49m\u001b[43m)\u001b[49m\n\u001b[0;32m     93\u001b[0m \u001b[38;5;28;01melif\u001b[39;00m return_tensors \u001b[38;5;241m==\u001b[39m \u001b[38;5;124m\"\u001b[39m\u001b[38;5;124mtf\u001b[39m\u001b[38;5;124m\"\u001b[39m:\n\u001b[0;32m     94\u001b[0m     \u001b[38;5;28;01mreturn\u001b[39;00m tf_default_data_collator(features)\n",
      "File \u001b[1;32mc:\\KEXLocalGit\\KEX1\\.env\\Lib\\site-packages\\transformers\\data\\data_collator.py:131\u001b[0m, in \u001b[0;36mtorch_default_data_collator\u001b[1;34m(features)\u001b[0m\n\u001b[0;32m    128\u001b[0m \u001b[38;5;28;01mimport\u001b[39;00m \u001b[38;5;21;01mtorch\u001b[39;00m\n\u001b[0;32m    130\u001b[0m \u001b[38;5;28;01mif\u001b[39;00m \u001b[38;5;129;01mnot\u001b[39;00m \u001b[38;5;28misinstance\u001b[39m(features[\u001b[38;5;241m0\u001b[39m], Mapping):\n\u001b[1;32m--> 131\u001b[0m     features \u001b[38;5;241m=\u001b[39m [\u001b[38;5;28;43mvars\u001b[39;49m\u001b[43m(\u001b[49m\u001b[43mf\u001b[49m\u001b[43m)\u001b[49m \u001b[38;5;28;01mfor\u001b[39;00m f \u001b[38;5;129;01min\u001b[39;00m features]\n\u001b[0;32m    132\u001b[0m first \u001b[38;5;241m=\u001b[39m features[\u001b[38;5;241m0\u001b[39m]\n\u001b[0;32m    133\u001b[0m batch \u001b[38;5;241m=\u001b[39m {}\n",
      "\u001b[1;31mTypeError\u001b[0m: vars() argument must have __dict__ attribute"
     ]
    }
   ],
   "source": [
    "from transformers import TrainingArguments, Trainer, AutoTokenizer, AutoModelForCausalLM\n",
    "import numpy as np\n",
    "import evaluate\n",
    "\n",
    "model_name = \"AI-Sweden-Models/gpt-sw3-1.3b\"\n",
    "\n",
    "model = AutoModelForCausalLM.from_pretrained(model_name)\n",
    "\n",
    "training_args = TrainingArguments(\n",
    "    output_dir=\"test_trainer\", \n",
    "    evaluation_strategy=\"epoch\",\n",
    "    num_train_epochs=3,\n",
    "    per_device_train_batch_size=8,\n",
    "    per_device_eval_batch_size=16,\n",
    "    logging_steps=100,\n",
    "    save_steps=200,\n",
    "    logging_dir=\"./logs\")\n",
    "metric = evaluate.load(\"accuracy\")\n",
    "\n",
    "def compute_metrics(eval_pred):\n",
    "    logits, labels = eval_pred\n",
    "    predictions = np.argmax(logits, axis=-1)\n",
    "    return metric.compute(predictions=predictions, references=labels)\n",
    "\n",
    "trainer = Trainer(\n",
    "    model = model,\n",
    "    args = training_args,\n",
    "    train_dataset= PatientJournalText_test_small,\n",
    "    eval_dataset= PatientJournalText_val_small,\n",
    "    compute_metrics= compute_metrics,\n",
    ")\n",
    "\n",
    "trainer.train()\n"
   ]
  },
  {
   "cell_type": "code",
   "execution_count": 3,
   "metadata": {},
   "outputs": [
    {
     "name": "stdout",
     "output_type": "stream",
     "text": [
      "----------------\n",
      "[18870, 12608, 1212, 3750, 332, 14851, 18050, 30503, 63443, 27216, 63453, 3316, 18050, 63423, 63459, 63496, 63489, 63484, 353, 8961, 63446, 63423, 63459, 63443, 63491, 298, 63481, 63435, 63443, 16398, 63481, 823, 602, 34138, 19420, 63423, 63496, 3532, 63470, 63459, 63483, 63446, 467, 63459, 16042, 63423, 63489, 63455, 14959, 18, 59107, 12465, 415, 25867, 552, 533, 459, 662, 305, 900, 2954, 279, 10470, 437, 293, 13014, 63443, 30890, 7675, 8718, 63437, 23445, 350, 6136, 12479, 459, 2481, 63429, 1221, 14792, 30374, 54145, 63446, 13085, 636, 24030, 670, 5507, 483, 6579, 63446, 46939, 5057, 63423, 63480, 63455, 63453, 63480, 63484, 14502, 4116, 5862, 15964, 1090, 338, 51032, 6197, 63423, 63459, 63455, 11679, 1535, 63423, 63456, 63446, 63459, 63491, 416, 63481, 958, 383, 20438, 5196, 2952, 2379, 16413, 21771, 338, 1361, 731, 30890, 7675, 10631, 63437, 23445, 350, 2572, 24030, 670, 5507, 483, 6579, 63443, 21212, 63453, 11415, 2912, 3664, 342, 55218, 63446, 477, 4228, 27473, 4131, 12465, 332, 54533, 382, 56839, 63443, 10682, 279, 17250, 21950, 6117, 1758, 299, 63453, 338, 506, 340, 418, 25020, 293, 14592, 33173, 14730, 63443, 5330, 11361, 11409, 852, 340, 662, 49441, 555, 63443, 61319, 2111, 63458, 11926, 636, 350, 390, 63453, 9035, 8718, 11451, 784, 63443, 63423, 18, 18, 33101, 2581, 13014, 1026, 364, 18378, 63443, 63423, 18, 18]\n",
      "((0, A_duration                           nan\n",
      "A_duration__REF                101 - 153\n",
      "A_mitr_Vmax                          0.4\n",
      "A_mitr_Vmax__REF             0,26 - 0,90\n",
      "age                                   36\n",
      "                                ...     \n",
      "VK_volym_3D_syst_BSA__REF         9 - 29\n",
      "VK_volym_tei_diast                107.52\n",
      "VK_volym_tei_syst                    nan\n",
      "VKs                                  nan\n",
      "VKs_BSA                              nan\n",
      "Name: 0, Length: 486, dtype: object),)\n"
     ]
    }
   ],
   "source": [
    "print(\"----------------\")\n",
    "output_tokens_from_par = [item[0] for item in par_tokens]\n",
    "print(output_tokens_from_par[0])\n",
    "output_tokens_from_par = [item[1:] for item in par_tokens]\n",
    "print(output_tokens_from_par[0])"
   ]
  }
 ],
 "metadata": {
  "kernelspec": {
   "display_name": ".env",
   "language": "python",
   "name": "python3"
  },
  "language_info": {
   "codemirror_mode": {
    "name": "ipython",
    "version": 3
   },
   "file_extension": ".py",
   "mimetype": "text/x-python",
   "name": "python",
   "nbconvert_exporter": "python",
   "pygments_lexer": "ipython3",
   "version": "3.12.2"
  }
 },
 "nbformat": 4,
 "nbformat_minor": 2
}
