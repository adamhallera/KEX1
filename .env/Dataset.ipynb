{
 "cells": [
  {
   "cell_type": "code",
   "execution_count": 13,
   "metadata": {},
   "outputs": [
    {
     "name": "stderr",
     "output_type": "stream",
     "text": [
      "Exception ignored in: <function ZipFile.__del__ at 0x00000210F9E8BB00>\n",
      "Traceback (most recent call last):\n",
      "  File \"C:\\Users\\gp4l\\AppData\\Local\\Programs\\Python\\Python312\\Lib\\zipfile\\__init__.py\", line 1929, in __del__\n",
      "    self.close()\n",
      "  File \"C:\\Users\\gp4l\\AppData\\Local\\Programs\\Python\\Python312\\Lib\\zipfile\\__init__.py\", line 1946, in close\n",
      "    self.fp.seek(self.start_dir)\n",
      "ValueError: seek of closed file\n"
     ]
    },
    {
     "name": "stdout",
     "output_type": "stream",
     "text": [
      "(129730, 708)\n"
     ]
    }
   ],
   "source": [
    "import pandas as pb\n",
    "\n",
    "data = pb.read_excel('FAKSexport.xlsx')\n",
    "#print(data)\n",
    "print(data.shape)\n",
    "\n"
   ]
  },
  {
   "cell_type": "code",
   "execution_count": 14,
   "metadata": {},
   "outputs": [
    {
     "name": "stdout",
     "output_type": "stream",
     "text": [
      "(2, 708)\n"
     ]
    }
   ],
   "source": [
    "import pandas as pb\n",
    "\n",
    "Smaldata = pb.read_excel('SmalFAKS.xlsx')\n",
    "#print(data)\n",
    "print(Smaldata.shape)\n"
   ]
  },
  {
   "cell_type": "code",
   "execution_count": 15,
   "metadata": {},
   "outputs": [
    {
     "name": "stdout",
     "output_type": "stream",
     "text": [
      "1.6\n",
      "(2, 708)\n",
      "(129730, 708)\n",
      "2\n",
      "(2, 708)\n",
      "(129730, 487)\n",
      "3\n"
     ]
    }
   ],
   "source": [
    "import pandas as pd\n",
    "\n",
    "# Konvertera alla kolumnnamn till strängar för att undvika TypeError\n",
    "Smaldata.columns = Smaldata.columns.astype(str)\n",
    "data.columns = data.columns.astype(str)\n",
    "\n",
    "print(\"1.6\")\n",
    "# Sök efter kolumner som innehåller det specifika ordet\n",
    "word_to_remove = 'checkbox'\n",
    "columns_to_remove = [col for col in Smaldata.columns if word_to_remove in col]\n",
    "\n",
    "print(Smaldata.shape)\n",
    "print(data.shape)\n",
    "print(\"2\")\n",
    "# Ta bort de hittade kolumnerna från DataFrame\n",
    "data = data.drop(columns=columns_to_remove)\n",
    "\n",
    "print(Smaldata.shape)\n",
    "print(data.shape)\n",
    "print(\"3\")\n",
    "# Spara den uppdaterade DataFrame till en ny Excel-fil eller samma fil\n",
    "data.to_excel('updFAKSexp.xlsx', index=False)"
   ]
  },
  {
   "cell_type": "code",
   "execution_count": 20,
   "metadata": {},
   "outputs": [
    {
     "name": "stdout",
     "output_type": "stream",
     "text": [
      "1.6\n"
     ]
    },
    {
     "ename": "IndexError",
     "evalue": "only integers, slices (`:`), ellipsis (`...`), numpy.newaxis (`None`) and integer or boolean arrays are valid indices",
     "output_type": "error",
     "traceback": [
      "\u001b[1;31m---------------------------------------------------------------------------\u001b[0m",
      "\u001b[1;31mIndexError\u001b[0m                                Traceback (most recent call last)",
      "Cell \u001b[1;32mIn[20], line 12\u001b[0m\n\u001b[0;32m     10\u001b[0m \u001b[38;5;66;03m# Tokenisera texten med en tokeniserare, till exempel BERT-tokeniseraren\u001b[39;00m\n\u001b[0;32m     11\u001b[0m tokenizer \u001b[38;5;241m=\u001b[39m AutoTokenizer\u001b[38;5;241m.\u001b[39mfrom_pretrained(model_name)\n\u001b[1;32m---> 12\u001b[0m tokenized_texts \u001b[38;5;241m=\u001b[39m [tokenizer\u001b[38;5;241m.\u001b[39mtokenize(text) \u001b[38;5;28;01mfor\u001b[39;00m text \u001b[38;5;129;01min\u001b[39;00m \u001b[43mdata\u001b[49m\u001b[43m[\u001b[49m\u001b[38;5;124;43m'\u001b[39;49m\u001b[38;5;124;43mtext_column\u001b[39;49m\u001b[38;5;124;43m'\u001b[39;49m\u001b[43m]\u001b[49m]\n\u001b[0;32m     13\u001b[0m \u001b[38;5;28mprint\u001b[39m(\u001b[38;5;124m\"\u001b[39m\u001b[38;5;124m1.6\u001b[39m\u001b[38;5;124m\"\u001b[39m)\n\u001b[0;32m     15\u001b[0m \u001b[38;5;66;03m# Dela upp datamängden enligt 80-10-10-split\u001b[39;00m\n",
      "File \u001b[1;32mc:\\KEX\\.env\\Lib\\site-packages\\pandas\\core\\indexes\\base.py:5416\u001b[0m, in \u001b[0;36mIndex.__getitem__\u001b[1;34m(self, key)\u001b[0m\n\u001b[0;32m   5407\u001b[0m         \u001b[38;5;28;01mif\u001b[39;00m \u001b[38;5;28mlen\u001b[39m(key) \u001b[38;5;241m==\u001b[39m \u001b[38;5;241m0\u001b[39m \u001b[38;5;129;01mand\u001b[39;00m \u001b[38;5;28mlen\u001b[39m(key) \u001b[38;5;241m!=\u001b[39m \u001b[38;5;28mlen\u001b[39m(\u001b[38;5;28mself\u001b[39m):\n\u001b[0;32m   5408\u001b[0m             warnings\u001b[38;5;241m.\u001b[39mwarn(\n\u001b[0;32m   5409\u001b[0m                 \u001b[38;5;124m\"\u001b[39m\u001b[38;5;124mUsing a boolean indexer with length 0 on an Index with \u001b[39m\u001b[38;5;124m\"\u001b[39m\n\u001b[0;32m   5410\u001b[0m                 \u001b[38;5;124m\"\u001b[39m\u001b[38;5;124mlength greater than 0 is deprecated and will raise in a \u001b[39m\u001b[38;5;124m\"\u001b[39m\n\u001b[1;32m   (...)\u001b[0m\n\u001b[0;32m   5413\u001b[0m                 stacklevel\u001b[38;5;241m=\u001b[39mfind_stack_level(),\n\u001b[0;32m   5414\u001b[0m             )\n\u001b[1;32m-> 5416\u001b[0m result \u001b[38;5;241m=\u001b[39m \u001b[43mgetitem\u001b[49m\u001b[43m(\u001b[49m\u001b[43mkey\u001b[49m\u001b[43m)\u001b[49m\n\u001b[0;32m   5417\u001b[0m \u001b[38;5;66;03m# Because we ruled out integer above, we always get an arraylike here\u001b[39;00m\n\u001b[0;32m   5418\u001b[0m \u001b[38;5;28;01mif\u001b[39;00m result\u001b[38;5;241m.\u001b[39mndim \u001b[38;5;241m>\u001b[39m \u001b[38;5;241m1\u001b[39m:\n",
      "\u001b[1;31mIndexError\u001b[0m: only integers, slices (`:`), ellipsis (`...`), numpy.newaxis (`None`) and integer or boolean arrays are valid indices"
     ]
    }
   ],
   "source": [
    "from sklearn.model_selection import train_test_split\n",
    "from transformers import AutoTokenizer\n",
    "\n",
    "model_name = \"AI-Sweden-Models/gpt-sw3-1.3b\"\n",
    "\n",
    "#data = pb.read_excel('updFAKSexp.xlsx')\n",
    "data = data.columns.astype(str)\n",
    "print(\"1.6\")\n",
    "\n",
    "# Tokenisera texten med en tokeniserare, till exempel BERT-tokeniseraren\n",
    "tokenizer = AutoTokenizer.from_pretrained(model_name)\n",
    "tokenized_texts = [tokenizer.tokenize(text) for text in data['text_column']]  #vi ska ju ha rows, inte colums men hittar inget bra sätt för det nå. tar det imon.\n",
    "print(\"1.6\")\n",
    "\n",
    "# Dela upp datamängden enligt 80-10-10-split\n",
    "train_texts, val_and_test_texts = train_test_split(tokenized_texts, test_size=0.2, random_state=42) #måste läsa lite om random_state\n",
    "val_texts, test_texts = train_test_split(val_and_test_texts, test_size=0.5, random_state=42)\n",
    "print(\"1.6\")\n",
    "\n",
    "# Spara de delade datamängderna till separata filer\n",
    "with open('train_data.txt', 'w') as f:\n",
    "    for text in train_texts:\n",
    "        f.write(' '.join(text) + '\\n')\n",
    "\n",
    "with open('val_data.txt', 'w') as f:\n",
    "    for text in val_texts:\n",
    "        f.write(' '.join(text) + '\\n')\n",
    "\n",
    "with open('test_data.txt', 'w') as f:\n",
    "    for text in test_texts:\n",
    "        f.write(' '.join(text) + '\\n')"
   ]
  }
 ],
 "metadata": {
  "kernelspec": {
   "display_name": ".env",
   "language": "python",
   "name": "python3"
  },
  "language_info": {
   "codemirror_mode": {
    "name": "ipython",
    "version": 3
   },
   "file_extension": ".py",
   "mimetype": "text/x-python",
   "name": "python",
   "nbconvert_exporter": "python",
   "pygments_lexer": "ipython3",
   "version": "3.12.2"
  }
 },
 "nbformat": 4,
 "nbformat_minor": 2
}
