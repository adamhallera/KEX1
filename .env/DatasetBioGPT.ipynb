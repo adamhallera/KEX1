{
 "cells": [
  {
   "cell_type": "code",
   "execution_count": 3,
   "metadata": {},
   "outputs": [],
   "source": [
    "import pandas as pb\n",
    "data = pb.read_excel('updFAKSexp.xlsx')\n",
    "print(1)\n",
    "#data.to_csv('updFAKSexpCSV.csv')\n",
    "data_np = data.to_numpy()\n",
    "print(data.shape)"
   ]
  },
  {
   "cell_type": "code",
   "execution_count": null,
   "metadata": {},
   "outputs": [],
   "source": [
    "from sklearn.model_selection import train_test_split\n",
    "import pandas as pb\n",
    "\n",
    "input_tokens = [(input_text) for input_text in data.iloc[:, 1:].iterrows()]\n",
    "print(len(input_tokens))\n",
    "output_tokens = [(output_text) for output_text in data.iloc[:, 0]]\n",
    "\n",
    "par_tokens = [(output_tokens[i], input_tokens[i])for i in range(len(input_tokens))]\n",
    "\n",
    "train_texts, val_and_test_texts = train_test_split(par_tokens, test_size=0.2, random_state=42) #måste läsa lite om random_state\n",
    "val_texts, test_texts = train_test_split(val_and_test_texts, test_size=0.5, random_state=42)\n",
    "\n",
    "output_tokens_from_par_train = [item[0] for item in train_texts]\n",
    "output_tokens_from_par_val = [item[0] for item in val_texts]\n",
    "output_tokens_from_par_test = [item[0] for item in test_texts]\n",
    "input_tokens_from_par_train = [item[1:] for item in train_texts]\n",
    "input_tokens_from_par_val = [item[1:] for item in val_texts]\n",
    "input_tokens_from_par_test = [item[1:] for item in test_texts]\n",
    "\n",
    "PatientJournalText_train_small = [str(item) for item in output_tokens_from_par_train[:80]]\n",
    "PatientJournalText_val_small = output_tokens_from_par_val[:10]\n",
    "PatientJournalText_test_small = output_tokens_from_par_test[:10]\n",
    "InputData_train_small = [str(item) for item in input_tokens_from_par_train[:80]]\n",
    "InputData_val_small = input_tokens_from_par_val[:10]\n",
    "InputData_test_small = input_tokens_from_par_test[:10]"
   ]
  },
  {
   "cell_type": "code",
   "execution_count": null,
   "metadata": {},
   "outputs": [],
   "source": [
    "import torch\n",
    "from transformers import PreTrainedTokenizerFast, pipeline, AutoTokenizer, BioGptTokenizer, BioGptForCausalLM\n",
    "import os\n",
    "\n",
    "\n",
    "# Set environment variables\n",
    "os.environ['CUDA_LAUNCH_BLOCKING'] = '1'\n",
    "os.environ['PYTORCH_CUDA_ALLOC_CONF'] = 'expandable_segments:True'\n",
    "\n",
    "class MyDataset(torch.utils.data.Dataset):\n",
    "    def __init__(self, PatientJournalText_small, InputData_small, tokenizer):\n",
    "        self.PatientJournalText_small = PatientJournalText_small\n",
    "        self.InputData_small = InputData_small\n",
    "        self.tokenizer = tokenizer\n",
    "\n",
    "    def __len__(self):\n",
    "        return len(self.InputData_small)\n",
    "\n",
    "    def __getitem__(self, idx):        \n",
    "        PatientJournalText_small = self.PatientJournalText_small[idx]\n",
    "        InputData_small = self.InputData_small[idx]\n",
    "\n",
    "        # Encode input sequence and labels using tokenizer\n",
    "        inputs = self.tokenizer.encode_plus(\n",
    "            InputData_small,\n",
    "            return_tensors='pt',\n",
    "            padding='max_length',\n",
    "            truncation=True,\n",
    "            max_length=512,  # Set this according to your maximum sequence length\n",
    "        )\n",
    "\n",
    "        labels = self.tokenizer.encode_plus(\n",
    "            PatientJournalText_small,\n",
    "            return_tensors='pt',\n",
    "            padding='max_length',\n",
    "            truncation=True,\n",
    "            max_length=512,  # Set this according to your maximum sequence length\n",
    "        )\n",
    "\n",
    "        return {\n",
    "            \"input_ids\": inputs.input_ids.flatten(),\n",
    "            \"labels\": labels.input_ids.flatten()\n",
    "        }\n",
    "\n",
    "# Assuming you have already initialized the tokenizer somewhere\n",
    "#device = \"cuda:0\" if torch.cuda.is_available() else \"cpu\"\n",
    "model_name = \"microsoft/biogpt\"\n",
    "tokenizer = BioGptTokenizer.from_pretrained(model_name)\n",
    "model = BioGptForCausalLM.from_pretrained(model_name)\n",
    "#model.to(device)\n",
    "\n",
    "AllData_train_small = MyDataset(PatientJournalText_train_small, InputData_train_small, tokenizer)\n",
    "AllData_val_small = MyDataset(PatientJournalText_val_small, InputData_val_small, tokenizer)\n",
    "AllData_test_small = MyDataset(PatientJournalText_test_small, InputData_test_small, tokenizer)"
   ]
  },
  {
   "cell_type": "code",
   "execution_count": null,
   "metadata": {},
   "outputs": [],
   "source": [
    "from transformers import TrainingArguments, Trainer, AutoTokenizer, AutoModelForCausalLM\n",
    "import numpy as np\n",
    "from accelerate import Accelerator\n",
    "import evaluate\n",
    "from accelerate import Accelerator\n",
    "\n",
    "accelerator = Accelerator(cpu=True)\n",
    "\n",
    "\n",
    "\n",
    "training_args = TrainingArguments(\n",
    "    output_dir=\"test_trainer\", \n",
    "    evaluation_strategy=\"epoch\",\n",
    "    num_train_epochs=1,\n",
    "    per_device_train_batch_size=1,\n",
    "    per_device_eval_batch_size=2,\n",
    "    gradient_accumulation_steps=4,\n",
    "    gradient_checkpointing=True,\n",
    "    logging_steps=1000,\n",
    "    save_steps=2000,\n",
    "    logging_dir=\"./logs\")\n",
    "    #metric = evaluate.load(\"accuracy\")\n",
    "\n",
    "'''def compute_metrics(eval_pred):\n",
    "    logits, labels = eval_pred\n",
    "    predictions = np.argmax(logits, axis=-1)\n",
    "    return metric.compute(predictions=predictions, references=labels)'''\n",
    "\n",
    "trainer = Trainer(\n",
    "    model = model,\n",
    "    args = training_args,\n",
    "    train_dataset= AllData_train_small,\n",
    "    #eval_dataset= PatientJournalText_val_small,\n",
    "    #compute_metrics= compute_metrics,\n",
    ")\n",
    "\n",
    "trainer.train()\n"
   ]
  },
  {
   "cell_type": "code",
   "execution_count": 2,
   "metadata": {},
   "outputs": [
    {
     "data": {
      "text/plain": [
       "0"
      ]
     },
     "execution_count": 2,
     "metadata": {},
     "output_type": "execute_result"
    }
   ],
   "source": [
    "import torch\n",
    "torch.cuda.empty_cache()\n",
    "torch.cuda.memory_allocated()"
   ]
  }
 ],
 "metadata": {
  "kernelspec": {
   "display_name": ".env",
   "language": "python",
   "name": "python3"
  },
  "language_info": {
   "codemirror_mode": {
    "name": "ipython",
    "version": 3
   },
   "file_extension": ".py",
   "mimetype": "text/x-python",
   "name": "python",
   "nbconvert_exporter": "python",
   "pygments_lexer": "ipython3",
   "version": "3.12.2"
  }
 },
 "nbformat": 4,
 "nbformat_minor": 2
}
