{
 "cells": [
  {
   "cell_type": "code",
   "execution_count": 1,
   "metadata": {},
   "outputs": [
    {
     "name": "stderr",
     "output_type": "stream",
     "text": [
      "c:\\KEX\\.env\\Lib\\site-packages\\tqdm\\auto.py:21: TqdmWarning: IProgress not found. Please update jupyter and ipywidgets. See https://ipywidgets.readthedocs.io/en/stable/user_install.html\n",
      "  from .autonotebook import tqdm as notebook_tqdm\n"
     ]
    }
   ],
   "source": [
    "import torch\n",
    "from transformers import pipeline, AutoTokenizer, AutoModelForCausalLM"
   ]
  },
  {
   "cell_type": "code",
   "execution_count": 2,
   "metadata": {},
   "outputs": [],
   "source": [
    "# Initialize Variables\n",
    "model_name = \"AI-Sweden-Models/gpt-sw3-1.3b\"\n",
    "device = \"cuda:0\" if torch.cuda.is_available() else \"cpu\""
   ]
  },
  {
   "cell_type": "code",
   "execution_count": 11,
   "metadata": {},
   "outputs": [],
   "source": [
    "from transformers import StoppingCriteriaList, StoppingCriteria\n",
    "prompt = \"Översätt följande till Svenska: 'Stomach pain. < / FREETEXT > < / TITLE > ▃ < ABSTRACT > < FREETEXT > BACKGROUND ▃ Dyspepsia is a common presenting complaint in general practice. ▃ ▃ ▃ OBJECTIVE ▃ This article provides an overview of the diagnosis and management of dyspepsia. ▃ ▃ ▃ DISCUSSION ▃ Dyspepsia is defined as pain or discomfort centred in the upper abdomen. The most common causes of dyspepsia are gastro-oesophageal reflux disease (GORD), functional dyspepsia and peptic ulcer disease (PUD). The diagnosis of GORD is based on the presence of reflux symptoms and the absence of alarm features. The diagnosis of functional dyspepsia is based on the absence of alarm features and the presence of two or more of the following symptoms: postprandial fullness, early satiation, epigastric pain, epigastric burning, nausea and vomiting. The diagnosis of PUD is based on the presence of epigastric pain and the absence of alarm features. < / FREETEXT > < / ABSTRACT > ▃'\""
   ]
  },
  {
   "cell_type": "code",
   "execution_count": 7,
   "metadata": {},
   "outputs": [],
   "source": [
    "from transformers import StoppingCriteriaList, StoppingCriteria\n",
    "prompt = \"Översätt följande till Svenska: Stomach pain is one of the most common symptoms in patients with gastroesophageal reflux disease (GERD), but it is often difficult to differentiate between GERD and functional dyspepsia (FD), especially in the early stages of the disease, because of the overlap of symptoms and the lack of specific diagnostic tests for GERD and FD\"\n"
   ]
  },
  {
   "cell_type": "code",
   "execution_count": 12,
   "metadata": {},
   "outputs": [
    {
     "name": "stdout",
     "output_type": "stream",
     "text": [
      "Översätt följande till Svenska: 'Stomach pain. < / FREETEXT > < / TITLE > ▃ < ABSTRACT > < FREETEXT > BACKGROUND ▃ Dyspepsia is a common presenting complaint in general practice. ▃ ▃ ▃ OBJECTIVE ▃ This article provides an overview of the diagnosis and management of dyspepsia. ▃ ▃ ▃ DISCUSSION ▃ Dyspepsia is defined as pain or discomfort centred in the upper abdomen. The most common causes of dyspepsia are gastro-oesophageal reflux disease (GORD), functional dyspepsia and peptic ulcer disease (PUD). The diagnosis of GORD is based on the presence of reflux symptoms and the absence of alarm features. The diagnosis of functional dyspepsia is based on the absence of alarm features and the presence of two or more of the following symptoms: postprandial fullness, early satiation, epigastric pain, epigastric burning, nausea and vomiting. The diagnosis of PUD is based on the presence of epigastric pain and the absence of alarm features. < / FREETEXT > < / ABSTRACT > ▃'\n",
      "\"Magsmärta. < / FREETEXT > < / TITLE > ▃ < ABSTRACT > BAKGRUND ▃ Dyspepsi är ett vanligt förekommande klagomål i allmänpraxis. ▃ ▃ ▃ SYFTE ▃ Denna artikel ger en översikt av diagnosen och hanteringen av dyspepsi. ▃ ▃ ▃ DISKUSSION ▃ Dyspepsi definieras som smärta eller obehag centrerad i övre buken. De vanligaste orsakerna till dyspepsi är gastro-oesofageal refluxsjukdom (GORD), funktionell dyspepsi och peptisk sårsjukdom (PUD). Diagnosen GORD är baserad på förekomsten av refluxsymtom och frånvaron av alarmsymtom. Diagnosen funktionell dyspepsi baseras på frånvaron av alarmsymtom\n"
     ]
    }
   ],
   "source": [
    "# Initialize Tokenizer & Model\n",
    "tokenizer = AutoTokenizer.from_pretrained(model_name)\n",
    "model = AutoModelForCausalLM.from_pretrained(model_name)\n",
    "model.eval()\n",
    "model.to(device)\n",
    "\n",
    "input_ids = tokenizer(prompt, return_tensors=\"pt\")[\"input_ids\"].to(device)\n",
    "\n",
    "generated_token_ids = model.generate(\n",
    "    inputs=input_ids,\n",
    "    max_new_tokens=200,\n",
    "    do_sample=True,\n",
    "    temperature=0.6,\n",
    "    top_p=1,\n",
    ")[0]\n",
    "\n",
    "generated_text = tokenizer.decode(generated_token_ids)    \n",
    "\n",
    "print(generated_text)"
   ]
  }
 ],
 "metadata": {
  "kernelspec": {
   "display_name": ".env",
   "language": "python",
   "name": "python3"
  },
  "language_info": {
   "codemirror_mode": {
    "name": "ipython",
    "version": 3
   },
   "file_extension": ".py",
   "mimetype": "text/x-python",
   "name": "python",
   "nbconvert_exporter": "python",
   "pygments_lexer": "ipython3",
   "version": "3.12.2"
  }
 },
 "nbformat": 4,
 "nbformat_minor": 2
}
