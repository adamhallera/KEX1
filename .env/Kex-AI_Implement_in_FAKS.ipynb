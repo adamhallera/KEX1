{
 "cells": [
  {
   "cell_type": "code",
   "execution_count": null,
   "metadata": {},
   "outputs": [],
   "source": [
    "'''\n",
    "If you want to implement this AI into FAKS this is the code to be used. \n",
    "It's important that the text is formated in the same way as it was during training. \n",
    "That's why we have listed all the inputs the model has been trained on and in the correct order.\n",
    "Inputs: A_duration__REF\tA_mitr_Vmax\tage\tAI_grad\tAI_PHT\tAI_typ\tAndningsvariation\tAnomali_Aorta\tAO_dimensioner_Comments\tAO_Dsc_Rev_Holodiast\tAO_protes\tAO_sinus_vals\tAO_sinus_vals__REF\tAO_sinus_vals_BSA\tAO_STJ\tAO_STJ_BSA\tAO_Vmax\tAO_Vmax_Valsalva\tAO_VTI\tAO_VTI_location\tAorta_arcus\tAorta_arcus__REF\tAorta_ascendens\tAorta_ascendens__REF\tAorta_ascendens_BSA\tAorta_descendens\tAorta_P_max\tAorta_P_medel\tAortaklaff_comments\tAV_plan_Anteriort\tAV_plan_Inferiort\tAV_plan_Lateralt\tAV_plan_medel\tAV_plan_Septalt\tAVA_con_ekv\tAVA_con_ekv_BSA\tBildkvalitet\tBMA\tBMA2\tBMI\tBSA\tCI_Biplan\tCI_Biplan_kontrast\tCI_LVOT\tCO_Biplan\tCO_Biplan_kontrast\tCO_LVOT\tDiastoliskt_blodtryck\tDoktor_1\tDoktor_2\tDT\tDT__REF\tE_A\tE_A__REF\tE_mitr_Vmax\tEF_Simps_4CH\tEF_Simps_4CH__REF\tEF_Simps_biplan\tEF_Simps_biplan__REF\tEF_Simps_biplan_kontrast\tEF_teicholz\texam_position\texaminationType\tForkalkning_Aorta\tForkalkning_Mitralis\tForkalkning_Pulmonalis\tForkalkning_Tricuspidalis\tFormak_comments\tFourCH_VKd\tfraga_transportsatt\tFragestallning_1\tFragestallning_2\tFragestallning_3\tFrekvens\tgender\tHeight\tHFs_area\tHFs_area_BSA\tHFs_area_BSA__REF\tHK_tryck_PAAT\tHK_visuellt\tHKd_RVOT1\tHKd_RVOT1__REF\tHo_kammare_comments\tHR_LVOT\tInledande_comments\tIVC_dim\tIVC_dim_immeasureable\tIVRT__REF\tIVSd_PLAX\tLA_area_4CH\tLA_area_4CH_BSA\tLA_volym\tLA_volym_BSA\tLevervener_syst_revers\tLungven_revers_syst\tLungvener_ status\tLV_GLS\tLVEDd_PLAX\tLVEDd_PLAX_BSA\tLVEDd_PLAX_BSA__REF\tLVEDvol\tLVEDvol_BSA\tLVEDvol_BSA__REF\tLVEF_max\tLVEF_min\tLVESvol\tLVESvol_BSA\tLVESvol_BSA__REF\tLVM\tLVM__REF\tLVMI\tLVMI__REFBSA\tLVMI_BSA__REF\tLVOT_dim_s\tLVOT_VMax\tLVOT_VTI\tLVOT_VTI_AO_VTI\tLVPWd_PLAX\tMI_grad\tMI_typ\tMI_Vmax\tMI_VTI\tMitralis_HR\tmitralis_P_medel\tMitralisklaff_comments\tMV_PHT\tMV_protes\tMVA_PHT\tOvriga_fynd\tPA_acc_tid\tPA_tryck_min\tPerikardspatium\tPerikardspatium_betydelse\tPerikardspatium_bredd_inferialt\tPerikardspatium_bredd_lateralt\tPerikardspatium_bredd_runt_apex\tPerikardspatium_bredd_utanfor_HF\tPerikardspatium_bredd_utanfor_HK\tPerikardspatium_comments\tPerikardspatium_LVOT_Andningsvariation\tPerikardspatium_LVOT_Vmax\tPerikardspatium_LVOT_Vmin\tPerikardspatium_Mitral_E_Andningsvariation\tPerikardspatium_Mitral_E_Vmax\tPerikardspatium_Mitral_E_Vmin\tPerikardspatium_subcost_utanfor_HK\tPerikardspatium_Tricus_E_Andningsvariation\tPerikardspatium_Tricus_E_Vmax\tPerikardspatium_Tricus_E_Vmin\tPI_grad\tPI_typ\tPI_V_slutdiast\tPISA_ERO\tPISA_r\tPISA_v\tPleuraspatium_vanster\tpulm_p_max\tpulm_vmax\tPulmonalisklaff_comments\tPVd_Vmax\tPVs_Vmax\tRAP_min\tReg_Volym\tRem_diagn_1\tRem_diagn_2\tRIS_fragestallning\tRIS_remiss_diagnos\tRV_4CH\tRV_4CH_BSA\tRV_4CH_BSA__REF\tRV_EDarea\tRV_ESarea\tRV_FAC\tRV_sPrim\tRVOT2_Vmax\tRWT\tRytm\tS_D\tseg antal ikryssade totalt\tSegmentering_1\tSegmentering_10\tSegmentering_11\tSegmentering_12\tSegmentering_13\tSegmentering_14\tSegmentering_15\tSegmentering_16\tSegmentering_17\tSegmentering_2\tSegmentering_3\tSegmentering_4\tSegmentering_5\tSegmentering_6\tSegmentering_7\tSegmentering_8\tSegmentering_9\tseptum_d_mid\tseptum_d_mid__REF\tStenos_Aorta\tSV_LVOT\tSV_LVOT_BSA\tswedac\tSystoliskt_blodtryck\tTAPSE\tTDI_e_lat\tTDI_Kvot_E_E\tTDI_sept_e\tTEE_AI_grad\tTEE_Antikoagulantia_type\tTEE_comments\tTEE_Flode_fargdoppler\tTEE_komplikationer\tTEE_Lungvener_visualiserade\tTEE_MI_grad\tTEE_PFO\tTEE_Plack_i_aorta\tTEE_spontan_kontrast\tTEE_Svarighetsgrad\tTEE_TI_grad\tTEE_Va_formaksora\tTEE_Va_formaksora_hastighet_kontraktion\tTEE_Va_formaksora_hastighet_relaxtion\tTI_grad\tTI_P_max\tTI_P_max__REF\tTI_PISA_ERO\tTI_PISA_r\tTI_PISA_v\tTI_Reg_Volym\tTI_typ\tTI_vena_contracta\tTI_Vmax\tTI_Vmax__REF\tTI_Vmax_immeasurable\tTI_VTI\tTricuspidalisklaff_comments\tTTE_Flode_fargdoppler\tTTE_Sonovue\tUL_Apparat\tVa_kammare_comments\tVena_contracta_PLAX\tVFs\tVFs_BSA\tVikt\tVK_volym_2D_2CH_diast\tVK_volym_2D_2CH_diast_BSA\tVK_volym_2D_2CH_diast_BSA__REF\tVK_volym_2D_2CH_slagvolym\tVK_volym_2D_2CH_syst\tVK_volym_2D_2CH_syst_BSA\tVK_volym_2D_2CH_syst_BSA__REF\tVK_volym_2D_4CH_slagvolym\tVK_volym_2D_4CH_slagvolym__REF\tVK_volym_2D_biplan_diast\tVK_volym_2D_biplan_diast_BSA\tVK_volym_2D_biplan_diast_BSA__REF\tVK_volym_2D_biplan_kontrast_diast\tVK_volym_2D_biplan_kontrast_diast_BSA\tVK_volym_2D_biplan_kontrast_slagvolym\tVK_volym_2D_biplan_kontrast_syst\tVK_volym_2D_biplan_kontrast_syst_BSA\tVK_volym_2D_biplan_slagvolym\tVK_volym_2D_biplan_slagvolym__REF\tVK_volym_2D_biplan_syst\tVK_volym_2D_biplan_syst_BSA\tVK_volym_2D_biplan_syst_BSA__REF\tVK_volym_3D_diast\tVK_volym_3D_diast_BSA\tVK_volym_3D_diast_BSA__REF\tVK_volym_3D_EF\tVK_volym_3D_EF__REF\tVK_volym_3D_slagvolym\tVK_volym_3D_slagvolym__REF\tVK_volym_3D_syst\tVK_volym_3D_syst_BSA\tVK_volym_3D_syst_BSA__REF\tVK_volym_tei_diast\tVK_volym_tei_syst\tVKs\tVKs_BSA\n",
    "Example: <|endoftext|><s>User: Skriv en patientjornal efter en ultraljudsundersökning utifrån dessa värden: ['100 - 176', 1.2, 76, 0.0, nan, nan, 'Nedsatt', 'Tricuspid', nan, nan, nan, 26.0, '27 - 39', 13.9, 24.0, 12.8, 1.8, nan, nan, nan, nan, '10,3 - 10,3', 35.0, '25 - 38', 18.7, nan, 13.0, nan, 'Inga vegetationsmisstänkta förändringar.', nan, nan, nan, nan, nan, nan, nan, 'Normal', 'ala', nan, 23.5, 1.87, nan, nan, nan, nan, nan, nan, 80.0, nan, nan, nan, '142 - 258', 0.8, '0,96 - 1,32', 0.96, nan, '53 - 73', nan, '54 - 74', nan, 59.0, nan, nan, 'Förtjockad', nan, nan, nan, nan, 34.0, 'Säng', nan, nan, nan, 80.0, 'Kvinna', 175.0, 26.0, 13.9, '6 - 11', nan, 'Nedsatt', 19.0, '22 - 40', 'Tricuspidalisinsufficiensens Vmax svåravgränsad.  ', nan, nan, 21.0, nan, '73 - 101', 16.0, 25.0, 13.36898395721925, nan, nan, nan, nan, nan, nan, 33.0, 17.65, '23 - 31\\t32 - 34\\t35 - 37\\t ≥ 37', nan, nan, '29 - 61', nan, 55.0, nan, nan, '6 - 22', 190.0, 162, 102.0, 95, '43 - 95\\t96 - 108\\t109 - 121\\t ≥ 122', nan, 0.9, nan, nan, 15.0, 0.0, nan, nan, nan, nan, nan, 'Inga vegetationsmisstänkta förändringar.', nan, nan, nan, nan, nan, 69.0, 'ja', nan, 18.0, 15.0, nan, 12.0, nan, 'Ingen kompression av högersidiga hjärtrum.', nan, nan, nan, 16.0, 1.0, 0.84, 16.0, nan, nan, nan, 1.5, nan, 3.2, nan, nan, nan, nan, 10.0, 1.6, 'Lätt ökad ekotäthet, men inga vegetationsmisstänkta förändringar.', nan, nan, 8.0, nan, nan, nan, 'Vegetationer? Tecken på endokardit?', \"Kvinna med tidigare myelom, stamcelltransplantation '00, amyloidos med njurpåverkan, och restriktiv kardiomyopati, LE 2007, PH. Har utvecklat staphylokock sepsis med ingångsport PICC-lines instickstället. Vid hjärt-auskultation syst. blåsljud med PM I2 sin. Tacksam för TEE för att utesluta endokardit. Mvh Ioanna Kotortsi, leg läkare Lung Allergi Klinik\", 44.0, 23.52941176470588, 'Referens ej tillgänglig', nan, nan, nan, nan, nan, 0.9090909090909091, 'Regelbunden', nan, nan, nan, nan, nan, nan, nan, nan, nan, nan, nan, nan, nan, nan, nan, nan, nan, nan, nan, nan, '5 - 12', nan, nan, nan, nan, 130.0, 15.0, nan, 16.0, 0.06, nan, nan, 'Lokal svalgbedövning med Xylocainspray. \\nKommentar TEE\\nEfter svalganestesin börjar pat må illa, kräks lite och harklar upp blodstrimmigt slem. Mtp patientens allmäntillstånd, och eftersom den transthorakala undersökningen inte ingav misstanke om någon klaffvegetation, avstås därför från transesofagal undersökning idag.', nan, nan, nan, nan, nan, nan, nan, 'Ej genomförbart', nan, nan, nan, nan, 1.0, 61.0, '0 - 32,1', nan, nan, nan, nan, nan, nan, 3.9, '0 - 2,8', nan, nan, 'Inga vegetationsmisstänkta förändringar.', nan, nan, nan, 'Systodiastolisk septumavplaning. Fusionerad mitralis E- och A-våg.', nan, 37.0, 19.8, 72.0, nan, nan, '29 - 61', nan, nan, nan, '6 - 22', nan, 5075, nan, nan, '29 - 61', nan, nan, nan, nan, nan, nan, '50 - 75', nan, nan, '6 - 22', nan, nan, '26 - 58', nan, '52 - 72', nan, '50 - 75', nan, nan, '8 - 24', 44.13315789473684, 18.12106382978724, 23.0, 12.0]<s>Bot:\n",
    "'''"
   ]
  },
  {
   "cell_type": "code",
   "execution_count": null,
   "metadata": {},
   "outputs": [],
   "source": [
    "#Libaries\n",
    "from transformers import AutoTokenizer, AutoModelForCausalLM, pipeline\n",
    "import torch"
   ]
  },
  {
   "cell_type": "code",
   "execution_count": null,
   "metadata": {},
   "outputs": [],
   "source": [
    "#code to implement in FAKS\n",
    "\n",
    "device = \"cuda:0\" if torch.cuda.is_available() else \"cpu\"\n",
    "tokenizer = AutoTokenizer.from_pretrained(\"saved_place_finetunedModel\")\n",
    "model = AutoModelForCausalLM.from_pretrained(\"saved_place_finetunedModel\")\n",
    "model.eval()\n",
    "model.to(device)\n",
    "\n",
    "input_text = f\"<|endoftext|><s>User: Skriv en patientjornal efter en ultraljudsundersökning utifrån dessa värden: {input_from_FAKS}<s>Bot:\"\n",
    "prompt = input_text.strip()\n",
    "\n",
    "\n",
    "token_count = len(tokenizer.encode_plus(prompt)[\"input_ids\"])\n",
    "max_token_count = 2048 - 140\n",
    "\n",
    "if token_count > max_token_count:\n",
    "    end_index = len(prompt) - 7\n",
    "    end_seq = prompt[end_index:]\n",
    "    tokens = tokenizer.encode_plus(prompt[:end_index])[\"input_ids\"]\n",
    "    tokens = tokens[:max_token_count]\n",
    "    prompt = (tokenizer.decode(tokens) + (end_seq)).strip()\n",
    "  \n",
    "\n",
    "generator = pipeline('text-generation', tokenizer=tokenizer, model=model, device=device)\n",
    "generated = generator(prompt, max_new_tokens=140, do_sample=True, temperature=0.47, top_p=1, top_k = 23, repetition_penalty = 1.05)[0][\"generated_text\"]\n",
    "\n",
    "index_bot = generated.find(\"Bot\")\n",
    "new_string = generated[index_bot + 4:]\n",
    "new_text = new_string.strip()\n",
    "print(new_text)"
   ]
  }
 ],
 "metadata": {
  "language_info": {
   "name": "python"
  }
 },
 "nbformat": 4,
 "nbformat_minor": 2
}
