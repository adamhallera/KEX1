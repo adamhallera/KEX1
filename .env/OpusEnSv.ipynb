{
 "cells": [
  {
   "cell_type": "code",
   "execution_count": 1,
   "metadata": {},
   "outputs": [
    {
     "name": "stderr",
     "output_type": "stream",
     "text": [
      "c:\\KEXLocalGit\\KEX1\\.env\\Lib\\site-packages\\tqdm\\auto.py:22: TqdmWarning: IProgress not found. Please update jupyter and ipywidgets. See https://ipywidgets.readthedocs.io/en/stable/user_install.html\n",
      "  from .autonotebook import tqdm as notebook_tqdm\n"
     ]
    },
    {
     "name": "stdout",
     "output_type": "stream",
     "text": [
      "Svensk översättning:  Hallå.\n"
     ]
    }
   ],
   "source": [
    "# Load model directly\n",
    "from transformers import AutoTokenizer, AutoModelForSeq2SeqLM\n",
    "\n",
    "tokenizer = AutoTokenizer.from_pretrained(\"Helsinki-NLP/opus-mt-en-sv\")\n",
    "model = AutoModelForSeq2SeqLM.from_pretrained(\"Helsinki-NLP/opus-mt-en-sv\")\n",
    "\n",
    "english_text = \"hello\"\n",
    "\n",
    "inputs = tokenizer(english_text, return_tensors=\"pt\")\n",
    "\n",
    "outputs = model.generate(**inputs)\n",
    "\n",
    "swedish_translation = tokenizer.decode(outputs[0], skip_special_tokens=True)\n",
    "\n",
    "print(\"Svensk översättning: \", swedish_translation)"
   ]
  },
  {
   "cell_type": "code",
   "execution_count": null,
   "metadata": {},
   "outputs": [],
   "source": [
    "'''import torch\n",
    "from transformers import TrainingArguments, Trainer, AutoTokenizer, AutoModelForCausalLM\n",
    "\n",
    "class MyDataset(torch.utils.data.Dataset):\n",
    "    def __init__(self, PatientJournalText_small, InputData_small):\n",
    "        self.PatientJournalText_small = PatientJournalText_small\n",
    "        self.InputData_small = InputData_small\n",
    "\n",
    "    def __len__(self):\n",
    "        return len(self.InputData_small)\n",
    "\n",
    "    def __getitem__(self, id):        \n",
    "        PatientJournalText_small = self.PatientJournalText_small[id]\n",
    "        InputData_small = self.InputData_small[id]\n",
    "\n",
    "        return {\"input_ids\": InputData_small[\"input_ids\"], \"labels\": PatientJournalText_small[\"lables\"]}\n",
    "    \n",
    "AllData_train_samll = MyDataset(PatientJournalText_train_small, InputData_train_small)\n",
    "AllData_val_samll = MyDataset(PatientJournalText_val_small, InputData_val_small)\n",
    "AllData_test_samll = MyDataset(PatientJournalText_test_small, InputData_test_small)'''"
   ]
  }
 ],
 "metadata": {
  "kernelspec": {
   "display_name": ".env",
   "language": "python",
   "name": "python3"
  },
  "language_info": {
   "codemirror_mode": {
    "name": "ipython",
    "version": 3
   },
   "file_extension": ".py",
   "mimetype": "text/x-python",
   "name": "python",
   "nbconvert_exporter": "python",
   "pygments_lexer": "ipython3",
   "version": "3.12.2"
  }
 },
 "nbformat": 4,
 "nbformat_minor": 2
}
